{
 "cells": [
  {
   "cell_type": "markdown",
   "metadata": {},
   "source": [
    "## KELOMPOK 3"
   ]
  },
  {
   "cell_type": "markdown",
   "metadata": {},
   "source": [
    "- Kasyful Haq Bachariputra (2304820)\n",
    "- Muhammad Akhtar Rizki Ramadha (2304742)\n",
    "- Ibnu Fadhilah (2300613)\n",
    "- Muhammad Naufal Arbanin (2310850)\n",
    "- Hanif Ahmad Syauqi (2304330)"
   ]
  },
  {
   "cell_type": "markdown",
   "metadata": {},
   "source": [
    "## PENDAHULUAN\n"
   ]
  },
  {
   "cell_type": "markdown",
   "metadata": {},
   "source": [
    "Notebook ini adalah hasil analisis data transaksi yang melibatkan langkah-langkah pembersihan data, pengisian nilai yang hilang, dan penggunaan model Random Forest untuk memprediksi hasil. Berikut ini adalah rangkuman tahapan dalam notebook ini:\n",
    "\n",
    "1. Persiapan Data: Menggunakan dataset latihan, data disiapkan dengan mengganti simbol \"?\" dengan nilai NaN dan mengisi nilai yang hilang menggunakan metode rata-rata (mean) untuk kolom numerik dan metode most frequent untuk kolom objek.\n",
    "\n",
    "2. Pembuatan Model: Model Random Forest dikembangkan dengan membagi data menjadi data latih dan validasi, kemudian dilakukan penskalaan data. Model ini dievaluasi menggunakan matriks kebingungan dan laporan klasifikasi.\n",
    "\n",
    "3. Prediksi Data Uji: Data uji juga diproses dan diprediksi menggunakan model yang telah dilatih."
   ]
  },
  {
   "cell_type": "code",
   "execution_count": 20,
   "metadata": {},
   "outputs": [],
   "source": [
    "# Melakukan import library\n",
    "import pandas as pd\n",
    "import numpy as np\n",
    "from sklearn.impute import SimpleImputer\n",
    "\n",
    "# Melakukan EDA pada dataset training\n",
    "df_train = pd.read_csv(\"transact_train.txt\", sep='|')\n",
    "\n",
    "df_train = df_train.replace('?', np.nan) # Mengganti '?' dengan not a number, sehingga bisa dilakukan pembersihan data\n",
    "\n",
    "# Menambah data pada kolom yang merupakan tipe data float atau int menggunakan mean\n",
    "num = df_train.select_dtypes(include=['float64', 'int64']).columns\n",
    "num_imputer = SimpleImputer(strategy='mean')\n",
    "df_train[num] = num_imputer.fit_transform(df_train[num])\n",
    "\n",
    "# Menambah data pada kolom yang merupakan tipe objek menggunakan 'most frequent'\n",
    "obj = df_train.select_dtypes(include='object').columns\n",
    "obj_imputer = SimpleImputer(strategy='most_frequent')\n",
    "df_train[obj] = obj_imputer.fit_transform(df_train[obj])"
   ]
  },
  {
   "cell_type": "markdown",
   "metadata": {},
   "source": [
    "## MODEL"
   ]
  },
  {
   "cell_type": "code",
   "execution_count": 21,
   "metadata": {},
   "outputs": [
    {
     "name": "stdout",
     "output_type": "stream",
     "text": [
      "[[23371  4386]\n",
      " [ 2646 55400]]\n",
      "              precision    recall  f1-score   support\n",
      "\n",
      "           n       0.90      0.84      0.87     27757\n",
      "           y       0.93      0.95      0.94     58046\n",
      "\n",
      "    accuracy                           0.92     85803\n",
      "   macro avg       0.91      0.90      0.90     85803\n",
      "weighted avg       0.92      0.92      0.92     85803\n",
      "\n"
     ]
    }
   ],
   "source": [
    "# Menentukan feature mana saja yang akan digunakan dalam model\n",
    "x = df_train.iloc[:, [2, 3, 4, 5, 6, 7, 8, 10, 11, 12, 16, 18, 19, 20, 22]].values\n",
    "# Menentukan target hasil prediksi\n",
    "y = df_train.iloc[:, -1].values\n",
    "\n",
    "# Melakuakn import library\n",
    "from sklearn.preprocessing import StandardScaler\n",
    "from sklearn.ensemble import RandomForestClassifier\n",
    "from sklearn.model_selection import train_test_split\n",
    "from sklearn.metrics import confusion_matrix\n",
    "from sklearn.metrics import accuracy_score\n",
    "from sklearn.metrics import classification_report\n",
    "\n",
    "# Membagi dua dataset menjadi data training dan data validation\n",
    "x_train, x_test, y_train, y_test = train_test_split(x, y, test_size=0.2, random_state=0)\n",
    "\n",
    "# Melakuakn scaling data\n",
    "scaler = StandardScaler()\n",
    "x_train = scaler.fit_transform(x_train)\n",
    "x_test = scaler.transform(x_test)\n",
    "\n",
    "# Menggunakan model RandomForest untuk data learning\n",
    "classi = RandomForestClassifier(n_estimators=50, random_state=0)\n",
    "classi.fit(x_train, y_train)\n",
    "\n",
    "# Melakukan prediksi\n",
    "y_pred = classi.predict(x_test)\n",
    "\n",
    "# Membuat confusion matrix serta accuracy score untuk evaluasi\n",
    "cm = confusion_matrix(y_test, y_pred)\n",
    "acc = accuracy_score(y_test, y_pred)\n",
    "# Menampilkan hasil evaluasi\n",
    "print(cm)\n",
    "print(classification_report(y_test, y_pred))"
   ]
  },
  {
   "cell_type": "code",
   "execution_count": 22,
   "metadata": {},
   "outputs": [
    {
     "name": "stdout",
     "output_type": "stream",
     "text": [
      "       sessionNo  startHour  startWeekday  duration  cCount cMinPrice  \\\n",
      "45063     5111.0        5.0           1.0    26.286     3.0      4.99   \n",
      "45064     5111.0        5.0           1.0    30.059     3.0      4.99   \n",
      "45065     5111.0        5.0           1.0    33.388     3.0      4.99   \n",
      "45066     5111.0        5.0           1.0    51.641     3.0      4.99   \n",
      "45067     5111.0        5.0           1.0    55.953     3.0      4.99   \n",
      "\n",
      "      cMaxPrice cSumPrice  bCount bMinPrice  ...          availability  \\\n",
      "45063      4.99      9.98     1.0      4.99  ...  completely orderable   \n",
      "45064      4.99      9.98     1.0      4.99  ...  completely orderable   \n",
      "45065      4.99      9.98     1.0      4.99  ...  completely orderable   \n",
      "45066      4.99      9.98     1.0      4.99  ...  completely orderable   \n",
      "45067      4.99      9.98     1.0      4.99  ...  completely orderable   \n",
      "\n",
      "      customerNo maxVal customerScore accountLifetime payments age address  \\\n",
      "45063         47    600            70             223        0  42       2   \n",
      "45064         47    600            70             223        0  42       2   \n",
      "45065         47    600            70             223        0  42       2   \n",
      "45066         47    600            70             223        0  42       2   \n",
      "45067         47    600            70             223        0  42       2   \n",
      "\n",
      "      lastOrder predicted_order  \n",
      "45063         6               n  \n",
      "45064         6               n  \n",
      "45065         6               n  \n",
      "45066         6               n  \n",
      "45067         6               n  \n",
      "\n",
      "[5 rows x 24 columns]\n"
     ]
    }
   ],
   "source": [
    "# Melakukan import data test dan melakukan EDA\n",
    "df_test = pd.read_csv(\"transact_class.txt\", sep=\"|\")\n",
    "\n",
    "# Mengubah \"?\" menjadi not a number\n",
    "df_test = df_test.replace('?', np.nan)\n",
    "\n",
    "# Menambah data pada kolom yang merupakan tipe data float atau int menggunakan mean\n",
    "num = df_test.select_dtypes(include=['float64', 'int64']).columns\n",
    "num_imputer = SimpleImputer(strategy='mean')\n",
    "df_test[num] = num_imputer.fit_transform(df_test[num])\n",
    "\n",
    "# Menambah data pada kolom yang merupakan tipe data object menggunakan 'most_frequent'\n",
    "obj = df_test.select_dtypes(include='object').columns\n",
    "obj_imputer = SimpleImputer(strategy='most_frequent')\n",
    "df_test[obj] = obj_imputer.fit_transform(df_test[obj])\n",
    "\n",
    "# Menentukan feature\n",
    "x = df_test.iloc[:, [2, 3, 4, 5, 6, 7, 8, 10, 11, 12, 16, 18, 19, 20, 22]].values\n",
    "\n",
    "# Melakukan scaling data\n",
    "scaler = StandardScaler()\n",
    "x_test = scaler.fit_transform(x)\n",
    "\n",
    "# Melakukan prediksi menggunakan model yang telah ada\n",
    "predicted_test = classi.predict(x_test)\n",
    "# Menambahkan kolom 'predicted_order' pada dataframe 'df_test'\n",
    "df_test['predicted_order'] = predicted_test\n",
    "\n",
    "print(df_test.tail())\n",
    "    "
   ]
  }
 ],
 "metadata": {
  "kernelspec": {
   "display_name": "base",
   "language": "python",
   "name": "python3"
  },
  "language_info": {
   "codemirror_mode": {
    "name": "ipython",
    "version": 3
   },
   "file_extension": ".py",
   "mimetype": "text/x-python",
   "name": "python",
   "nbconvert_exporter": "python",
   "pygments_lexer": "ipython3",
   "version": "3.12.7"
  }
 },
 "nbformat": 4,
 "nbformat_minor": 2
}
